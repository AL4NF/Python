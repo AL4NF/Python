{
 "cells": [
  {
   "cell_type": "markdown",
   "metadata": {},
   "source": [
    "# Clase 1"
   ]
  },
  {
   "cell_type": "code",
   "execution_count": 3,
   "metadata": {},
   "outputs": [
    {
     "name": "stdout",
     "output_type": "stream",
     "text": [
      "hola\n"
     ]
    }
   ],
   "source": [
    "print(\"hola\")"
   ]
  },
  {
   "cell_type": "code",
   "execution_count": 4,
   "metadata": {},
   "outputs": [
    {
     "data": {
      "text/plain": [
       "15"
      ]
     },
     "execution_count": 4,
     "metadata": {},
     "output_type": "execute_result"
    }
   ],
   "source": [
    "5+10\n"
   ]
  },
  {
   "cell_type": "code",
   "execution_count": 2,
   "metadata": {},
   "outputs": [
    {
     "name": "stdout",
     "output_type": "stream",
     "text": [
      "Alan Fiscal\n",
      "24\n",
      "1.74\n",
      "alanfiscalcampos@gmail.com\n"
     ]
    }
   ],
   "source": [
    "mi_nombre = \"Alan Fiscal\"\n",
    "mi_edad = 24\n",
    "mi_altura = 1.74\n",
    "mi_correo = \"alanfiscalcampos@gmail.com\"\n",
    "\n",
    "print(mi_nombre)\n",
    "print(mi_edad)\n",
    "print(mi_altura)\n",
    "print(mi_correo)\n"
   ]
  },
  {
   "cell_type": "code",
   "execution_count": 3,
   "metadata": {},
   "outputs": [
    {
     "name": "stdout",
     "output_type": "stream",
     "text": [
      "45\n"
     ]
    }
   ],
   "source": [
    "valor_1 = 35\n",
    "valor_2 = 10\n",
    "\n",
    "valor_1 + valor_2\n",
    "\n",
    "suma = valor_1 + valor_2\n",
    "\n",
    "print(suma)"
   ]
  },
  {
   "cell_type": "code",
   "execution_count": 5,
   "metadata": {},
   "outputs": [
    {
     "name": "stdout",
     "output_type": "stream",
     "text": [
      "25\n",
      "1225\n",
      "3.5\n"
     ]
    }
   ],
   "source": [
    "resta = valor_1 - valor_2\n",
    "print(resta)\n",
    "multiplicacion = valor_1 * valor_1\n",
    "print(multiplicacion)\n",
    "division = valor_1/valor_2\n",
    "print(division)"
   ]
  },
  {
   "cell_type": "markdown",
   "metadata": {},
   "source": [
    "## format"
   ]
  },
  {
   "cell_type": "code",
   "execution_count": 8,
   "metadata": {},
   "outputs": [
    {
     "name": "stdout",
     "output_type": "stream",
     "text": [
      "la suma de 35 y 10 es 45\n"
     ]
    }
   ],
   "source": [
    "print(f\"la suma de {valor_1} y {valor_2} es {suma}\" )"
   ]
  },
  {
   "cell_type": "code",
   "execution_count": 9,
   "metadata": {},
   "outputs": [
    {
     "data": {
      "text/plain": [
       "'6'"
      ]
     },
     "execution_count": 9,
     "metadata": {},
     "output_type": "execute_result"
    }
   ],
   "source": [
    "input(\"dame un valor\")"
   ]
  },
  {
   "cell_type": "code",
   "execution_count": 15,
   "metadata": {},
   "outputs": [
    {
     "name": "stdout",
     "output_type": "stream",
     "text": [
      "5\n",
      "la suma de 4 y 4 es 8\n"
     ]
    }
   ],
   "source": [
    "valor_1 =int(input(\"dame un valor\"))\n",
    "\n",
    "print(valor_1)\n",
    "\n",
    "valor_1*5\n",
    "\n"
   ]
  },
  {
   "cell_type": "code",
   "execution_count": 16,
   "metadata": {},
   "outputs": [
    {
     "name": "stdout",
     "output_type": "stream",
     "text": [
      "la suma de 6 y 10 es 16\n"
     ]
    }
   ],
   "source": [
    "valor_1=int(input(\"dame un valor 1\"))\n",
    "valor_2=int(input(\"dame un valor 2\"))\n",
    "\n",
    "suma= valor_1+valor_2\n",
    "\n",
    "print(f\"la suma de {valor_1} y {valor_2} es {suma}\")"
   ]
  },
  {
   "cell_type": "code",
   "execution_count": 18,
   "metadata": {},
   "outputs": [
    {
     "data": {
      "text/plain": [
       "False"
      ]
     },
     "execution_count": 18,
     "metadata": {},
     "output_type": "execute_result"
    }
   ],
   "source": [
    "35>=42\n"
   ]
  },
  {
   "cell_type": "code",
   "execution_count": 19,
   "metadata": {},
   "outputs": [
    {
     "data": {
      "text/plain": [
       "False"
      ]
     },
     "execution_count": 19,
     "metadata": {},
     "output_type": "execute_result"
    }
   ],
   "source": [
    "20<=15\n"
   ]
  },
  {
   "cell_type": "code",
   "execution_count": 20,
   "metadata": {},
   "outputs": [
    {
     "data": {
      "text/plain": [
       "True"
      ]
     },
     "execution_count": 20,
     "metadata": {},
     "output_type": "execute_result"
    }
   ],
   "source": [
    "55>=54\n"
   ]
  },
  {
   "cell_type": "code",
   "execution_count": 21,
   "metadata": {},
   "outputs": [
    {
     "data": {
      "text/plain": [
       "True"
      ]
     },
     "execution_count": 21,
     "metadata": {},
     "output_type": "execute_result"
    }
   ],
   "source": [
    "22<=22\n"
   ]
  },
  {
   "cell_type": "code",
   "execution_count": 22,
   "metadata": {},
   "outputs": [
    {
     "data": {
      "text/plain": [
       "True"
      ]
     },
     "execution_count": 22,
     "metadata": {},
     "output_type": "execute_result"
    }
   ],
   "source": [
    "5==5"
   ]
  },
  {
   "cell_type": "markdown",
   "metadata": {},
   "source": [
    "## Condiciones Avanzadas"
   ]
  },
  {
   "cell_type": "code",
   "execution_count": 40,
   "metadata": {},
   "outputs": [
    {
     "name": "stdout",
     "output_type": "stream",
     "text": [
      "puedes pasar\n"
     ]
    }
   ],
   "source": [
    "if 1.60 > 1.2:\n",
    "    print(\"puedes pasar\")\n",
    "else:\n",
    "    print(\"no puedes subir\")"
   ]
  },
  {
   "cell_type": "code",
   "execution_count": 44,
   "metadata": {},
   "outputs": [
    {
     "name": "stdout",
     "output_type": "stream",
     "text": [
      "hola\n",
      "esto\n",
      "pertenece\n",
      "al if\n"
     ]
    }
   ],
   "source": [
    "if 1.60 > 1.2:\n",
    "    print(\"hola\")\n",
    "    print(\"esto\")\n",
    "    print(\"pertenece\")\n",
    "    print(\"al if\")\n",
    "else:\n",
    "    print(\"esto ya no\")"
   ]
  },
  {
   "cell_type": "code",
   "execution_count": null,
   "metadata": {},
   "outputs": [],
   "source": []
  }
 ],
 "metadata": {
  "kernelspec": {
   "display_name": "Python 3.11.0 64-bit",
   "language": "python",
   "name": "python3"
  },
  "language_info": {
   "codemirror_mode": {
    "name": "ipython",
    "version": 3
   },
   "file_extension": ".py",
   "mimetype": "text/x-python",
   "name": "python",
   "nbconvert_exporter": "python",
   "pygments_lexer": "ipython3",
   "version": "3.11.0"
  },
  "orig_nbformat": 4,
  "vscode": {
   "interpreter": {
    "hash": "6f77623b32b95fb00e63755ac98a9e4dccb83fa5313f25090e960e97023c11e2"
   }
  }
 },
 "nbformat": 4,
 "nbformat_minor": 2
}
